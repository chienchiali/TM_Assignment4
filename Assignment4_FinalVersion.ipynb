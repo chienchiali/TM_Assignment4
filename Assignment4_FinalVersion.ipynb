{
 "cells": [
  {
   "cell_type": "markdown",
   "metadata": {
    "deletable": true,
    "editable": true
   },
   "source": [
    "# NewTalk News Crawl"
   ]
  },
  {
   "cell_type": "markdown",
   "metadata": {
    "deletable": true,
    "editable": true
   },
   "source": [
    "This notebook demostrate how to crawl data from Yahoo News (https://tw.news.yahoo.com/).\n",
    "\n",
    "However, it's incomplete. You'll have to use some advanced techniques to collect enough data for document classification."
   ]
  },
  {
   "cell_type": "code",
   "execution_count": 1,
   "metadata": {
    "collapsed": true,
    "deletable": true,
    "editable": true
   },
   "outputs": [],
   "source": [
    "import requests\n",
    "from bs4 import BeautifulSoup"
   ]
  },
  {
   "cell_type": "code",
   "execution_count": 2,
   "metadata": {
    "collapsed": true,
    "deletable": true,
    "editable": true
   },
   "outputs": [],
   "source": [
    "req = requests.get('https://newtalk.tw')\n",
    "req.encoding='utf-8'"
   ]
  },
  {
   "cell_type": "code",
   "execution_count": 3,
   "metadata": {
    "collapsed": true,
    "deletable": true,
    "editable": true
   },
   "outputs": [],
   "source": [
    "soup = BeautifulSoup(req.text, 'lxml')"
   ]
  },
  {
   "cell_type": "markdown",
   "metadata": {
    "deletable": true,
    "editable": true
   },
   "source": [
    "### Get categories of NewTalks"
   ]
  },
  {
   "cell_type": "code",
   "execution_count": 90,
   "metadata": {
    "collapsed": false,
    "deletable": true,
    "editable": true
   },
   "outputs": [
    {
     "name": "stdout",
     "output_type": "stream",
     "text": [
      "https://newtalk.tw/news/category/1/%E6%94%BF%E6%B2%BB%E7%B6%93%E6%BF%9F\n",
      "https://newtalk.tw/news/category/2/%E5%9C%8B%E9%9A%9B%E4%B8%AD%E5%9C%8B\n",
      "https://newtalk.tw/news/category/3/%E7%94%9F%E6%B4%BB%E8%97%9D%E6%96%87\n",
      "https://newtalk.tw/news/category/4/%E7%92%B0%E5%A2%83%E4%BA%BA%E6%AC%8A\n",
      "https://newtalk.tw/news/category/5/%E7%A7%91%E6%8A%80%E9%9B%BB%E7%AB%B6\n",
      "https://newtalk.tw/news/category/6/%E7%BE%8E%E9%A3%9F%E6%97%85%E9%81%8A\n",
      "https://newtalk.tw/news/summary/today\n",
      "https://newtalk.tw/news/topics/\n",
      "https://newtalk.tw/opinion/list\n",
      "https://newtalk.tw/opinion/uservoice\n",
      "https://newtalk.tw/citizen/list\n",
      "https://newtalk.tw/debate/list\n",
      "https://newtalk.tw/videos\n",
      "https://newtalk.tw/articles\n"
     ]
    },
    {
     "data": {
      "text/plain": [
       "14"
      ]
     },
     "execution_count": 90,
     "metadata": {},
     "output_type": "execute_result"
    }
   ],
   "source": [
    "categories = []\n",
    "for category in soup.select('.news-category-item'):\n",
    "    \n",
    "    print (category.a.attrs['href'])\n",
    "    #print (soup)\n",
    "    categories.append(category.a.attrs['href'])\n",
    "    #print(category.attrs['href'])\n",
    "len(categories)"
   ]
  },
  {
   "cell_type": "markdown",
   "metadata": {
    "deletable": true,
    "editable": true
   },
   "source": [
    "remove unwanted categories"
   ]
  },
  {
   "cell_type": "code",
   "execution_count": 91,
   "metadata": {
    "collapsed": false,
    "deletable": true,
    "editable": true
   },
   "outputs": [
    {
     "data": {
      "text/plain": [
       "['https://newtalk.tw/news/category/1/%E6%94%BF%E6%B2%BB%E7%B6%93%E6%BF%9F',\n",
       " 'https://newtalk.tw/news/category/2/%E5%9C%8B%E9%9A%9B%E4%B8%AD%E5%9C%8B',\n",
       " 'https://newtalk.tw/news/category/3/%E7%94%9F%E6%B4%BB%E8%97%9D%E6%96%87']"
      ]
     },
     "execution_count": 91,
     "metadata": {},
     "output_type": "execute_result"
    }
   ],
   "source": [
    "categories = categories[0:3]\n",
    "categories"
   ]
  },
  {
   "cell_type": "markdown",
   "metadata": {
    "deletable": true,
    "editable": true
   },
   "source": [
    "#### 先跑兩個 def"
   ]
  },
  {
   "cell_type": "code",
   "execution_count": 104,
   "metadata": {
    "collapsed": false,
    "deletable": true,
    "editable": true
   },
   "outputs": [],
   "source": [
    "def get_news_links(category):\n",
    "    for i in range(1,2):\n",
    "        \n",
    "        #取range的頁數\n",
    "        page_url = '{}{}{}'.format(category,\"/\",i)\n",
    "        req = requests.get(page_url)\n",
    "        soup = BeautifulSoup(req.text, 'lxml')\n",
    "\n",
    "    return {article.attrs['href'] for article in soup.select(\".news_title a\")}"
   ]
  },
  {
   "cell_type": "code",
   "execution_count": 85,
   "metadata": {
    "collapsed": true,
    "deletable": true,
    "editable": true
   },
   "outputs": [],
   "source": [
    "def get_new_content(url):\n",
    "    content = []\n",
    "    req = requests.get(url)\n",
    "    req.encoding='utf-8'\n",
    "    soup = BeautifulSoup(req.text, 'lxml')\n",
    "    content.append(soup.select_one('div.content_title h1').text)\n",
    "    content.append(soup.select_one('div.mainpic_text').text)\n",
    "    for p in soup.select('div.fontsize.news-content p'):\n",
    "        content.append(p.text)\n",
    "    return '\\n'.join(content)"
   ]
  },
  {
   "cell_type": "markdown",
   "metadata": {
    "deletable": true,
    "editable": true
   },
   "source": [
    "### call func 跑迴圈換頁，印出content"
   ]
  },
  {
   "cell_type": "code",
   "execution_count": 113,
   "metadata": {
    "collapsed": false,
    "deletable": true,
    "editable": true,
    "scrolled": true
   },
   "outputs": [],
   "source": [
    "#換頁後得到各篇文章的url\n",
    "links = {}\n",
    "article = []\n",
    "for category in categories:\n",
    "    links[category] = get_news_links(category)\n",
    "\n",
    "for category in categories:\n",
    "    for url in links[category]:\n",
    "        article.append({'category':category, 'article':get_new_content(url)})"
   ]
  },
  {
   "cell_type": "markdown",
   "metadata": {},
   "source": [
    "# 製造斷詞後的檔案"
   ]
  },
  {
   "cell_type": "markdown",
   "metadata": {},
   "source": [
    "##### 以下這段不用RUN!"
   ]
  },
  {
   "cell_type": "code",
   "execution_count": null,
   "metadata": {
    "collapsed": true
   },
   "outputs": [],
   "source": [
    "from sklearn.datasets import load_files\n",
    "news_data_folder = 'yahoonews_test'\n",
    "# 手動把資料依照類別分別讀進來\n",
    "dataset = load_files(news_data_folder,categories='world', shuffle=False)\n",
    "dataset.target_names"
   ]
  },
  {
   "cell_type": "code",
   "execution_count": null,
   "metadata": {
    "collapsed": true
   },
   "outputs": [],
   "source": [
    "len(dataset.data)\n",
    "#一個data是一篇文章，檢查有沒有存對"
   ]
  },
  {
   "cell_type": "markdown",
   "metadata": {
    "deletable": true,
    "editable": true
   },
   "source": [
    "##### Jieba 斷詞。 \n",
    "\n",
    "對，以下這段也不用RUN。"
   ]
  },
  {
   "cell_type": "code",
   "execution_count": 61,
   "metadata": {
    "collapsed": false,
    "deletable": true,
    "editable": true
   },
   "outputs": [],
   "source": [
    "import jieba\n",
    "jieba.set_dictionary('dict.txt.big.txt')"
   ]
  },
  {
   "cell_type": "code",
   "execution_count": 62,
   "metadata": {
    "collapsed": true,
    "deletable": true,
    "editable": true
   },
   "outputs": [],
   "source": [
    "import nltk\n",
    "from nltk.corpus import stopwords\n",
    "stops = set(stopwords.words('english'))"
   ]
  },
  {
   "cell_type": "code",
   "execution_count": 63,
   "metadata": {
    "collapsed": false,
    "deletable": true,
    "editable": true
   },
   "outputs": [],
   "source": [
    "import string\n",
    "# add more\n",
    "stops.update(string.ascii_letters + string.punctuation + string.digits)\n",
    "stops.update()\n",
    "# and more self-defined stopwords\n",
    "stops.update(map(lambda x: x.strip().split()[0], open('stopwords (1).txt')))"
   ]
  },
  {
   "cell_type": "code",
   "execution_count": 64,
   "metadata": {
    "collapsed": false,
    "deletable": true,
    "editable": true
   },
   "outputs": [
    {
     "name": "stderr",
     "output_type": "stream",
     "text": [
      "Building prefix dict from /Users/Chiali/2017/碩二上修不完的三門課QQ/福仁文字探勘/Assignment/dict.txt.big.txt ...\n",
      "Loading model from cache /var/folders/zc/sp3036hx3ps3pkrrlb4d7gkw0000gn/T/jieba.u43006043738a33ece19177c2fb6608ad.cache\n",
      "Loading model cost 1.938 seconds.\n",
      "Prefix dict has been built succesfully.\n"
     ]
    }
   ],
   "source": [
    "import io\n",
    "i=0\n",
    "news_words = []\n",
    "for article in dataset.data:\n",
    "    \n",
    "    #依照各類別，把斷詞完的檔案寫進資料夾            \n",
    "    out_filename = 'yahoonews_test_only3/world/world_'\n",
    "    words = []\n",
    "    keywords = []\n",
    "    words.extend(list(jieba.cut(article)))\n",
    "    keywords = [word for word in words if word not in stops]\n",
    "    #print(keywords)\n",
    "    news_words.append(' '.join(keywords))\n",
    "\n",
    "    with io.open(out_filename+str(i), 'w', encoding = 'utf-8') as f:\n",
    "        print(news_words[i], file = f)\n",
    "        i=i+1\n",
    "    \n",
    "#dataset.data = news_words"
   ]
  },
  {
   "cell_type": "markdown",
   "metadata": {
    "deletable": true,
    "editable": true
   },
   "source": [
    "# Text Classification with SVM"
   ]
  },
  {
   "cell_type": "code",
   "execution_count": 9,
   "metadata": {
    "collapsed": false,
    "deletable": true,
    "editable": true
   },
   "outputs": [
    {
     "data": {
      "text/plain": [
       "['International', 'Life', 'Politics']"
      ]
     },
     "execution_count": 9,
     "metadata": {},
     "output_type": "execute_result"
    }
   ],
   "source": [
    "from sklearn.datasets import load_files\n",
    "dataset = load_files('newtalks_train', encoding='utf-8')\n",
    "dataset.target_names"
   ]
  },
  {
   "cell_type": "code",
   "execution_count": 10,
   "metadata": {
    "collapsed": false,
    "deletable": true,
    "editable": true
   },
   "outputs": [
    {
     "name": "stdout",
     "output_type": "stream",
     "text": [
      "巴黎 槍擊 警察 一死 兩傷 　   恐攻 影響 首輪 投票 \n",
      " 法國巴黎 香榭麗舍 大道 當地 時間 20 日 晚上 傳出 槍響 已 名 警察 死亡 兩名 警察 重傷 伊斯蘭 國 稍晚 宣稱 發動 此起 攻擊 法國 總統 歐蘭德 這是 恐怖 攻擊 呼籲 提高 警戒 總統大選 首輪 投票 \n",
      " 法國巴黎 香榭麗舍 大道 當地 時間 20 日 晚上 傳出 槍響 一名 槍手 自動武器 一輛 巡邏 警車 開火 當場 一名 警察 死亡 兩名 警察 重傷 槍手 槍戰 中 趕到 警察 擊斃 \n",
      " 路透社 報導 激進 組織 伊斯蘭 國 IS 稍晚 宣稱 發動 此起 攻擊 槍手 比利時人 尤賽夫 Abu   Yusuf   al Beljiki 一名 伊斯蘭 國 戰士 \n",
      " 法國 內政部 發言人 指出 判定 犯案 動機 仍 言之過早 這起 槍擊 事件 警察 鎖定 對象 涉案者 不 排除 其他人 現場 警方 搜尋 另一名 潛在 嫌犯 \n",
      " 23 日 法國 總統大選 第一輪 投票 此起 攻擊 事件 多位 總統 候選人 取消 競選活動 恐對 大選 影響 \n",
      "   \n",
      "\n",
      "\n"
     ]
    }
   ],
   "source": [
    "len(dataset.data)\n",
    "#一個data是一篇文章\n",
    "print (dataset.data[0])"
   ]
  },
  {
   "cell_type": "markdown",
   "metadata": {
    "deletable": true,
    "editable": true
   },
   "source": [
    "# Extracting features from text files"
   ]
  },
  {
   "cell_type": "markdown",
   "metadata": {},
   "source": [
    "### Tokenizing text with scikit-learn"
   ]
  },
  {
   "cell_type": "code",
   "execution_count": 30,
   "metadata": {
    "collapsed": false
   },
   "outputs": [
    {
     "data": {
      "text/plain": [
       "(1500, 43782)"
      ]
     },
     "execution_count": 30,
     "metadata": {},
     "output_type": "execute_result"
    }
   ],
   "source": [
    "from sklearn.feature_extraction.text import CountVectorizer\n",
    "count_vect = CountVectorizer()\n",
    "X_train_counts = count_vect.fit_transform(dataset.data)\n",
    "X_train_counts.shape"
   ]
  },
  {
   "cell_type": "code",
   "execution_count": 49,
   "metadata": {
    "collapsed": false
   },
   "outputs": [
    {
     "data": {
      "text/plain": [
       "26494"
      ]
     },
     "execution_count": 49,
     "metadata": {},
     "output_type": "execute_result"
    }
   ],
   "source": [
    "count_vect.vocabulary_.get(\"法國\")"
   ]
  },
  {
   "cell_type": "code",
   "execution_count": 32,
   "metadata": {
    "collapsed": false
   },
   "outputs": [
    {
     "data": {
      "text/plain": [
       "(1500, 1107910)"
      ]
     },
     "execution_count": 32,
     "metadata": {},
     "output_type": "execute_result"
    }
   ],
   "source": [
    "ngram_count_vect = CountVectorizer(ngram_range=(1, 5))\n",
    "XX_train_counts = ngram_count_vect.fit_transform(dataset.data)\n",
    "XX_train_counts.shape"
   ]
  },
  {
   "cell_type": "code",
   "execution_count": 39,
   "metadata": {
    "collapsed": false
   },
   "outputs": [
    {
     "data": {
      "text/plain": [
       "795184"
      ]
     },
     "execution_count": 39,
     "metadata": {},
     "output_type": "execute_result"
    }
   ],
   "source": [
    "ngram_count_vect.vocabulary_.get(\"稍晚 宣稱\")"
   ]
  },
  {
   "cell_type": "markdown",
   "metadata": {},
   "source": [
    "### From occurrences to frequencies"
   ]
  },
  {
   "cell_type": "code",
   "execution_count": 51,
   "metadata": {
    "collapsed": false
   },
   "outputs": [
    {
     "data": {
      "text/plain": [
       "(1500, 43782)"
      ]
     },
     "execution_count": 51,
     "metadata": {},
     "output_type": "execute_result"
    }
   ],
   "source": [
    "#沒有 ngram 的 tfidf\n",
    "from sklearn.feature_extraction.text import TfidfTransformer\n",
    "tf_transformer = TfidfTransformer(use_idf=False).fit(X_train_counts)\n",
    "X_train_tf = tf_transformer.transform(X_train_counts)\n",
    "X_train_tf.shape"
   ]
  },
  {
   "cell_type": "code",
   "execution_count": 52,
   "metadata": {
    "collapsed": false,
    "deletable": true,
    "editable": true
   },
   "outputs": [
    {
     "data": {
      "text/plain": [
       "(1500, 43782)"
      ]
     },
     "execution_count": 52,
     "metadata": {},
     "output_type": "execute_result"
    }
   ],
   "source": [
    "#沒有 ngram 的 tfidf\n",
    "tfidf_transformer = TfidfTransformer()\n",
    "X_train_tfidf = tfidf_transformer.fit_transform(X_train_counts)\n",
    "X_train_tfidf.shape"
   ]
  },
  {
   "cell_type": "code",
   "execution_count": 67,
   "metadata": {
    "collapsed": false
   },
   "outputs": [
    {
     "data": {
      "text/plain": [
       "(1500, 1107910)"
      ]
     },
     "execution_count": 67,
     "metadata": {},
     "output_type": "execute_result"
    }
   ],
   "source": [
    "#有 ngram 的 tf\n",
    "from sklearn.feature_extraction.text import TfidfTransformer\n",
    "tf_transformer = TfidfTransformer(use_idf=False).fit(XX_train_counts)\n",
    "X_train_tf = tf_transformer.transform(XX_train_counts)\n",
    "X_train_tf.shape"
   ]
  },
  {
   "cell_type": "code",
   "execution_count": 68,
   "metadata": {
    "collapsed": false,
    "editable": true
   },
   "outputs": [
    {
     "data": {
      "text/plain": [
       "(1500, 1107910)"
      ]
     },
     "execution_count": 68,
     "metadata": {},
     "output_type": "execute_result"
    }
   ],
   "source": [
    "#有 ngram 的 tfidf\n",
    "tfidf_transformer = TfidfTransformer()\n",
    "XX_train_tfidf = tfidf_transformer.fit_transform(XX_train_counts)\n",
    "XX_train_tfidf.shape"
   ]
  },
  {
   "cell_type": "markdown",
   "metadata": {},
   "source": [
    "### TfidfVectorizer"
   ]
  },
  {
   "cell_type": "code",
   "execution_count": 83,
   "metadata": {
    "collapsed": false
   },
   "outputs": [
    {
     "data": {
      "text/plain": [
       "(1500, 43782)"
      ]
     },
     "execution_count": 83,
     "metadata": {},
     "output_type": "execute_result"
    }
   ],
   "source": [
    "from sklearn.feature_extraction.text import TfidfVectorizer\n",
    "tfidf_vectorizer = TfidfVectorizer()\n",
    "XX_train_tfidf = tfidf_vectorizer.fit_transform(dataset.data)\n",
    "X_train_tfidf.shape"
   ]
  },
  {
   "cell_type": "markdown",
   "metadata": {
    "deletable": true,
    "editable": true
   },
   "source": [
    "# Building a pipeline"
   ]
  },
  {
   "cell_type": "markdown",
   "metadata": {
    "deletable": true,
    "editable": true
   },
   "source": [
    "In order to make the vectorizer => transformer => classifier easier to work with, scikit-learn provides a Pipeline class that behaves like a compound classifier"
   ]
  },
  {
   "cell_type": "markdown",
   "metadata": {
    "deletable": true,
    "editable": true
   },
   "source": [
    "TASK: Build a vectorizer / classifier pipeline that filters out tokens that are too rare or too frequent"
   ]
  },
  {
   "cell_type": "code",
   "execution_count": 55,
   "metadata": {
    "collapsed": true,
    "deletable": true,
    "editable": true
   },
   "outputs": [],
   "source": [
    "from sklearn.pipeline import Pipeline\n",
    "#SVM \n",
    "from sklearn.svm import SVC, LinearSVC, NuSVC\n",
    "from sklearn.linear_model import SGDClassifier"
   ]
  },
  {
   "cell_type": "code",
   "execution_count": 91,
   "metadata": {
    "collapsed": false
   },
   "outputs": [],
   "source": [
    "text_clf = Pipeline([('vect', TfidfVectorizer()),\n",
    "                     ('clf', SVC()),\n",
    "])"
   ]
  },
  {
   "cell_type": "code",
   "execution_count": 92,
   "metadata": {
    "collapsed": false
   },
   "outputs": [
    {
     "data": {
      "text/plain": [
       "Pipeline(steps=[('vect', TfidfVectorizer(analyzer='word', binary=False, decode_error='strict',\n",
       "        dtype=<class 'numpy.int64'>, encoding='utf-8', input='content',\n",
       "        lowercase=True, max_df=1.0, max_features=None, min_df=1,\n",
       "        ngram_range=(1, 1), norm='l2', preprocessor=None, smooth_idf=True,\n",
       "  ...,\n",
       "  max_iter=-1, probability=False, random_state=None, shrinking=True,\n",
       "  tol=0.001, verbose=False))])"
      ]
     },
     "execution_count": 92,
     "metadata": {},
     "output_type": "execute_result"
    }
   ],
   "source": [
    "text_clf.fit(dataset.data, dataset.target)"
   ]
  },
  {
   "cell_type": "markdown",
   "metadata": {},
   "source": [
    "## load test data"
   ]
  },
  {
   "cell_type": "code",
   "execution_count": 87,
   "metadata": {
    "collapsed": false,
    "deletable": true,
    "editable": true
   },
   "outputs": [],
   "source": [
    "yahoo_test = load_files('yahoonews_test_only3', encoding='utf-8')"
   ]
  },
  {
   "cell_type": "code",
   "execution_count": 93,
   "metadata": {
    "collapsed": true,
    "deletable": true,
    "editable": true
   },
   "outputs": [],
   "source": [
    "predicted = text_clf.predict(yahoo_test.data)"
   ]
  },
  {
   "cell_type": "code",
   "execution_count": 94,
   "metadata": {
    "collapsed": false,
    "deletable": true,
    "editable": true
   },
   "outputs": [
    {
     "data": {
      "text/plain": [
       "0.2623076923076923"
      ]
     },
     "execution_count": 94,
     "metadata": {},
     "output_type": "execute_result"
    }
   ],
   "source": [
    "import numpy as np\n",
    "np.mean(predicted == yahoo_test.target)"
   ]
  },
  {
   "cell_type": "code",
   "execution_count": 95,
   "metadata": {
    "collapsed": false,
    "scrolled": true
   },
   "outputs": [
    {
     "name": "stdout",
     "output_type": "stream",
     "text": [
      "             precision    recall  f1-score   support\n",
      "\n",
      "  lifestyle       0.00      0.00      0.00       500\n",
      "   politics       0.30      0.64      0.41       500\n",
      "      world       0.17      0.08      0.10       300\n",
      "\n",
      "avg / total       0.15      0.26      0.18      1300\n",
      "\n"
     ]
    }
   ],
   "source": [
    "from sklearn import metrics\n",
    "print(metrics.classification_report(yahoo_test.target, predicted,\n",
    "    target_names=yahoo_test.target_names))"
   ]
  },
  {
   "cell_type": "markdown",
   "metadata": {},
   "source": [
    "### Parameter tuning using grid search"
   ]
  },
  {
   "cell_type": "code",
   "execution_count": 102,
   "metadata": {
    "collapsed": true
   },
   "outputs": [],
   "source": [
    "from sklearn.model_selection import GridSearchCV\n",
    "parameters = {'vect__ngram_range': [(1, 1), (1, 2)],\n",
    "              'vect__use_idf': (True, False),\n",
    "              'clf__C': (1.0, 0.1, 1e-2, 1e-3),\n",
    "#              'kernel':('linear', 'rbf'),\n",
    "}"
   ]
  },
  {
   "cell_type": "code",
   "execution_count": 103,
   "metadata": {
    "collapsed": true
   },
   "outputs": [],
   "source": [
    "gs_clf = GridSearchCV(text_clf, parameters, n_jobs=-1)"
   ]
  },
  {
   "cell_type": "code",
   "execution_count": 104,
   "metadata": {
    "collapsed": false
   },
   "outputs": [],
   "source": [
    "gs_clf = gs_clf.fit(dataset.data, dataset.target)"
   ]
  },
  {
   "cell_type": "code",
   "execution_count": 105,
   "metadata": {
    "collapsed": false
   },
   "outputs": [
    {
     "data": {
      "text/plain": [
       "'Life'"
      ]
     },
     "execution_count": 105,
     "metadata": {},
     "output_type": "execute_result"
    }
   ],
   "source": [
    "dataset.target_names[gs_clf.predict(['安全'])[0]]"
   ]
  },
  {
   "cell_type": "code",
   "execution_count": null,
   "metadata": {
    "collapsed": true
   },
   "outputs": [],
   "source": [
    "\n",
    "iris = datasets.load_iris()\n",
    "parameters = {'kernel':('linear', 'rbf'), 'C':[1, 10]}\n",
    "svr = svm.SVC()\n",
    "clf = GridSearchCV(svr, parameters)\n",
    "clf.fit(iris.data, iris.target)\n",
    "sorted(clf.cv_results_.keys())"
   ]
  },
  {
   "cell_type": "code",
   "execution_count": 106,
   "metadata": {
    "collapsed": false
   },
   "outputs": [
    {
     "data": {
      "text/plain": [
       "0.69599999999999995"
      ]
     },
     "execution_count": 106,
     "metadata": {},
     "output_type": "execute_result"
    }
   ],
   "source": [
    "gs_clf.best_score_"
   ]
  },
  {
   "cell_type": "code",
   "execution_count": 107,
   "metadata": {
    "collapsed": false
   },
   "outputs": [
    {
     "name": "stdout",
     "output_type": "stream",
     "text": [
      "clf__C: 1.0\n",
      "vect__ngram_range: (1, 2)\n",
      "vect__use_idf: True\n"
     ]
    }
   ],
   "source": [
    "for param_name in sorted(parameters.keys()):\n",
    "    print(\"%s: %r\" % (param_name, gs_clf.best_params_[param_name]))"
   ]
  },
  {
   "cell_type": "code",
   "execution_count": 108,
   "metadata": {
    "collapsed": false
   },
   "outputs": [],
   "source": [
    "clf = gs_clf.best_estimator_"
   ]
  },
  {
   "cell_type": "code",
   "execution_count": 109,
   "metadata": {
    "collapsed": true
   },
   "outputs": [],
   "source": [
    "predicted = clf.predict(yahoo_test.data)"
   ]
  },
  {
   "cell_type": "code",
   "execution_count": 110,
   "metadata": {
    "collapsed": false
   },
   "outputs": [
    {
     "data": {
      "text/plain": [
       "0.23000000000000001"
      ]
     },
     "execution_count": 110,
     "metadata": {},
     "output_type": "execute_result"
    }
   ],
   "source": [
    "import numpy as np\n",
    "np.mean(predicted == yahoo_test.target)  "
   ]
  },
  {
   "cell_type": "code",
   "execution_count": 111,
   "metadata": {
    "collapsed": false
   },
   "outputs": [
    {
     "name": "stdout",
     "output_type": "stream",
     "text": [
      "             precision    recall  f1-score   support\n",
      "\n",
      "  lifestyle       0.00      0.00      0.00       500\n",
      "   politics       0.28      0.55      0.37       500\n",
      "      world       0.17      0.09      0.11       300\n",
      "\n",
      "avg / total       0.14      0.23      0.17      1300\n",
      "\n"
     ]
    }
   ],
   "source": [
    "from sklearn import metrics\n",
    "print(metrics.classification_report(yahoo_test.target, predicted,\n",
    "    target_names=yahoo_test.target_names))"
   ]
  },
  {
   "cell_type": "code",
   "execution_count": 151,
   "metadata": {
    "collapsed": false
   },
   "outputs": [
    {
     "data": {
      "text/plain": [
       "{'mean_fit_time': array([ 0.64932458,  0.60471892,  2.72940811,  2.49406012,  0.52689068,\n",
       "         0.52608013,  3.19756262,  3.42056497,  0.93294803,  0.56863236,\n",
       "         2.43908405,  2.9380761 ,  0.71114039,  0.6965944 ,  2.89947867,\n",
       "         1.97009754]),\n",
       " 'mean_score_time': array([ 0.20983307,  0.22278476,  0.4572893 ,  0.46047457,  0.18342098,\n",
       "         0.18175522,  0.71240147,  0.58087866,  0.21662354,  0.19468562,\n",
       "         0.53162456,  0.4990356 ,  0.23348331,  0.2131273 ,  0.54455956,\n",
       "         0.36571622]),\n",
       " 'mean_test_score': array([ 0.86733333,  0.872     ,  0.87466667,  0.87466667,  0.87      ,\n",
       "         0.87      ,  0.874     ,  0.872     ,  0.86333333,  0.84666667,\n",
       "         0.86866667,  0.85066667,  0.86866667,  0.85066667,  0.87066667,\n",
       "         0.85466667]),\n",
       " 'mean_train_score': array([ 0.99733366,  0.99733366,  0.998     ,  0.99733366,  0.96867127,\n",
       "         0.94566922,  0.9856693 ,  0.95800391,  0.92500185,  0.89366412,\n",
       "         0.95800791,  0.90199681,  0.93167119,  0.89499879,  0.96233859,\n",
       "         0.91166716]),\n",
       " 'param_clf__C': masked_array(data = [1.0 1.0 1.0 1.0 0.1 0.1 0.1 0.1 0.01 0.01 0.01 0.01 0.001 0.001 0.001\n",
       "  0.001],\n",
       "              mask = [False False False False False False False False False False False False\n",
       "  False False False False],\n",
       "        fill_value = ?),\n",
       " 'param_vect__ngram_range': masked_array(data = [(1, 1) (1, 1) (1, 2) (1, 2) (1, 1) (1, 1) (1, 2) (1, 2) (1, 1) (1, 1)\n",
       "  (1, 2) (1, 2) (1, 1) (1, 1) (1, 2) (1, 2)],\n",
       "              mask = [False False False False False False False False False False False False\n",
       "  False False False False],\n",
       "        fill_value = ?),\n",
       " 'param_vect__use_idf': masked_array(data = [True False True False True False True False True False True False True\n",
       "  False True False],\n",
       "              mask = [False False False False False False False False False False False False\n",
       "  False False False False],\n",
       "        fill_value = ?),\n",
       " 'params': ({'clf__C': 1.0,\n",
       "   'vect__ngram_range': (1, 1),\n",
       "   'vect__use_idf': True},\n",
       "  {'clf__C': 1.0, 'vect__ngram_range': (1, 1), 'vect__use_idf': False},\n",
       "  {'clf__C': 1.0, 'vect__ngram_range': (1, 2), 'vect__use_idf': True},\n",
       "  {'clf__C': 1.0, 'vect__ngram_range': (1, 2), 'vect__use_idf': False},\n",
       "  {'clf__C': 0.1, 'vect__ngram_range': (1, 1), 'vect__use_idf': True},\n",
       "  {'clf__C': 0.1, 'vect__ngram_range': (1, 1), 'vect__use_idf': False},\n",
       "  {'clf__C': 0.1, 'vect__ngram_range': (1, 2), 'vect__use_idf': True},\n",
       "  {'clf__C': 0.1, 'vect__ngram_range': (1, 2), 'vect__use_idf': False},\n",
       "  {'clf__C': 0.01, 'vect__ngram_range': (1, 1), 'vect__use_idf': True},\n",
       "  {'clf__C': 0.01, 'vect__ngram_range': (1, 1), 'vect__use_idf': False},\n",
       "  {'clf__C': 0.01, 'vect__ngram_range': (1, 2), 'vect__use_idf': True},\n",
       "  {'clf__C': 0.01, 'vect__ngram_range': (1, 2), 'vect__use_idf': False},\n",
       "  {'clf__C': 0.001, 'vect__ngram_range': (1, 1), 'vect__use_idf': True},\n",
       "  {'clf__C': 0.001, 'vect__ngram_range': (1, 1), 'vect__use_idf': False},\n",
       "  {'clf__C': 0.001, 'vect__ngram_range': (1, 2), 'vect__use_idf': True},\n",
       "  {'clf__C': 0.001, 'vect__ngram_range': (1, 2), 'vect__use_idf': False}),\n",
       " 'rank_test_score': array([11,  4,  1,  1,  7,  7,  3,  4, 12, 16,  9, 14,  9, 14,  6, 13], dtype=int32),\n",
       " 'split0_test_score': array([ 0.8742515 ,  0.8742515 ,  0.88423154,  0.88023952,  0.89221557,\n",
       "         0.88423154,  0.89221557,  0.88822355,  0.87225549,  0.85828343,\n",
       "         0.89021956,  0.86227545,  0.88622754,  0.86427146,  0.89421158,\n",
       "         0.87025948]),\n",
       " 'split0_train_score': array([ 0.997998  ,  0.997998  ,  0.997998  ,  0.997998  ,  0.97097097,\n",
       "         0.94494494,  0.98898899,  0.96196196,  0.92592593,  0.8958959 ,\n",
       "         0.95895896,  0.9009009 ,  0.93393393,  0.89389389,  0.96696697,\n",
       "         0.90890891]),\n",
       " 'split1_test_score': array([ 0.84630739,  0.85828343,  0.85229541,  0.85429142,  0.8502994 ,\n",
       "         0.86027944,  0.85828343,  0.85828343,  0.85828343,  0.84031936,\n",
       "         0.85628743,  0.8502994 ,  0.86027944,  0.84431138,  0.8502994 ,\n",
       "         0.84231537]),\n",
       " 'split1_train_score': array([ 0.996997  ,  0.996997  ,  0.997998  ,  0.996997  ,  0.97097097,\n",
       "         0.94894895,  0.98498498,  0.95795796,  0.92592593,  0.88888889,\n",
       "         0.96496496,  0.8998999 ,  0.93393393,  0.89489489,  0.96296296,\n",
       "         0.91491491]),\n",
       " 'split2_test_score': array([ 0.8815261 ,  0.88353414,  0.8875502 ,  0.88955823,  0.86746988,\n",
       "         0.86546185,  0.87148594,  0.86947791,  0.85943775,  0.84136546,\n",
       "         0.85943775,  0.83935743,  0.85943775,  0.84337349,  0.86746988,\n",
       "         0.85140562]),\n",
       " 'split2_train_score': array([ 0.99700599,  0.99700599,  0.99800399,  0.99700599,  0.96407186,\n",
       "         0.94311377,  0.98303393,  0.95409182,  0.92315369,  0.89620758,\n",
       "         0.9500998 ,  0.90518962,  0.92714571,  0.89620758,  0.95708583,\n",
       "         0.91117764]),\n",
       " 'std_fit_time': array([ 0.03952123,  0.03477534,  0.02965937,  0.08297763,  0.01008555,\n",
       "         0.00872794,  0.17702005,  0.06585063,  0.2284572 ,  0.06444476,\n",
       "         0.03061896,  0.35091179,  0.00920106,  0.03806589,  0.09162456,\n",
       "         0.57614445]),\n",
       " 'std_score_time': array([ 0.01922652,  0.02615841,  0.01639481,  0.02563235,  0.0058086 ,\n",
       "         0.00077505,  0.01746454,  0.04396566,  0.04055484,  0.00854803,\n",
       "         0.02622147,  0.00746125,  0.00582057,  0.00395141,  0.02262971,\n",
       "         0.10948534]),\n",
       " 'std_test_score': array([ 0.01518289,  0.01042599,  0.01590037,  0.0149217 ,  0.01722193,\n",
       "         0.01029777,  0.01397939,  0.01236374,  0.00633591,  0.00823769,\n",
       "         0.0153171 ,  0.00935514,  0.01244079,  0.00964207,  0.01808595,\n",
       "         0.01164866]),\n",
       " 'std_train_score': array([  4.69771532e-04,   4.69771532e-04,   2.82560717e-06,\n",
       "          4.69771532e-04,   3.25227385e-03,   2.43663077e-03,\n",
       "          2.47882941e-03,   3.21313780e-03,   1.30684332e-03,\n",
       "          3.37899734e-03,   6.10582523e-03,   2.29434735e-03,\n",
       "          3.20000012e-03,   9.47413064e-04,   4.05804633e-03,\n",
       "          2.47625297e-03])}"
      ]
     },
     "execution_count": 151,
     "metadata": {},
     "output_type": "execute_result"
    }
   ],
   "source": [
    "gs_clf.cv_results_"
   ]
  },
  {
   "cell_type": "code",
   "execution_count": null,
   "metadata": {
    "collapsed": true
   },
   "outputs": [],
   "source": [
    "cm = metrics.confusion_matrix(yahoo_test.data, predicted)\n",
    "print(cm)"
   ]
  },
  {
   "cell_type": "code",
   "execution_count": 45,
   "metadata": {
    "collapsed": false
   },
   "outputs": [
    {
     "data": {
      "image/png": "[encoded data removed]",
      "text/plain": [
       "<matplotlib.figure.Figure at 0x115106e80>"
      ]
     },
     "metadata": {},
     "output_type": "display_data"
    }
   ],
   "source": [
    "import matplotlib.pyplot as plt\n",
    "import matplotlib.image as mpimg\n",
    "img=mpimg.imread('stop.png')\n",
    "imgplot = plt.imshow(img)\n",
    "plt.axis('off')\n",
    "plt.show()"
   ]
  },
  {
   "cell_type": "markdown",
   "metadata": {},
   "source": [
    "# 以下為草稿禁區，不用看！！！"
   ]
  },
  {
   "cell_type": "markdown",
   "metadata": {
    "collapsed": true,
    "deletable": true,
    "editable": true
   },
   "source": [
    "### Get news list"
   ]
  },
  {
   "cell_type": "code",
   "execution_count": 6,
   "metadata": {
    "collapsed": true,
    "deletable": true,
    "editable": true
   },
   "outputs": [],
   "source": [
    "req = requests.get('{}'.format(categories[0]))\n",
    "soup = BeautifulSoup(req.text, 'lxml')"
   ]
  },
  {
   "cell_type": "code",
   "execution_count": 101,
   "metadata": {
    "collapsed": false,
    "deletable": true,
    "editable": true,
    "scrolled": true
   },
   "outputs": [
    {
     "data": {
      "text/plain": [
       "20"
      ]
     },
     "execution_count": 101,
     "metadata": {},
     "output_type": "execute_result"
    }
   ],
   "source": [
    "from urllib.parse import urljoin\n",
    "urls = set()\n",
    "for article in soup.select(\".news_title a\"):\n",
    "    url = article.attrs['href']\n",
    "    urls.add(url)\n",
    "    #print(url)\n",
    "    \n",
    "len (urls)"
   ]
  },
  {
   "cell_type": "markdown",
   "metadata": {
    "deletable": true,
    "editable": true
   },
   "source": [
    "#### Pack it into a function"
   ]
  },
  {
   "cell_type": "code",
   "execution_count": 104,
   "metadata": {
    "collapsed": false,
    "deletable": true,
    "editable": true
   },
   "outputs": [],
   "source": [
    "def get_news_links(category):\n",
    "    for i in range(1,2):\n",
    "        \n",
    "        #取range的頁數\n",
    "        page_url = '{}{}{}'.format(category,\"/\",i)\n",
    "        req = requests.get(page_url)\n",
    "        soup = BeautifulSoup(req.text, 'lxml')\n",
    "\n",
    "    return {article.attrs['href'] for article in soup.select(\".news_title a\")}"
   ]
  },
  {
   "cell_type": "markdown",
   "metadata": {
    "deletable": true,
    "editable": true
   },
   "source": [
    "### Get links from every category"
   ]
  },
  {
   "cell_type": "code",
   "execution_count": 105,
   "metadata": {
    "collapsed": true,
    "deletable": true,
    "editable": true
   },
   "outputs": [],
   "source": [
    "links = {}\n",
    "for category in categories:\n",
    "    links[category] = get_news_links(category)"
   ]
  },
  {
   "cell_type": "code",
   "execution_count": null,
   "metadata": {
    "collapsed": false,
    "deletable": true,
    "editable": true
   },
   "outputs": [],
   "source": [
    "links"
   ]
  },
  {
   "cell_type": "markdown",
   "metadata": {
    "collapsed": true,
    "deletable": true,
    "editable": true
   },
   "source": [
    "## Get news content"
   ]
  },
  {
   "cell_type": "markdown",
   "metadata": {
    "deletable": true,
    "editable": true
   },
   "source": [
    "get the html document"
   ]
  },
  {
   "cell_type": "code",
   "execution_count": 79,
   "metadata": {
    "collapsed": false,
    "deletable": true,
    "editable": true
   },
   "outputs": [],
   "source": [
    "req = requests.get('https://newtalk.tw/news/view/2017-05-16/86842')\n",
    "req.encoding='utf-8'\n",
    "soup = BeautifulSoup(req.text, 'lxml')"
   ]
  },
  {
   "cell_type": "code",
   "execution_count": null,
   "metadata": {
    "collapsed": false,
    "deletable": true,
    "editable": true
   },
   "outputs": [],
   "source": [
    "print (soup)"
   ]
  },
  {
   "cell_type": "code",
   "execution_count": 83,
   "metadata": {
    "collapsed": false,
    "deletable": true,
    "editable": true
   },
   "outputs": [
    {
     "data": {
      "text/plain": [
       "'流鶯MIKO二審將開庭\\u3000日日春：檢察官狡辯硬坳'"
      ]
     },
     "execution_count": 83,
     "metadata": {},
     "output_type": "execute_result"
    }
   ],
   "source": [
    "soup.select_one('div.content_title h1').text"
   ]
  },
  {
   "cell_type": "code",
   "execution_count": null,
   "metadata": {
    "collapsed": false,
    "deletable": true,
    "editable": true,
    "scrolled": false
   },
   "outputs": [],
   "source": [
    "for p in soup.select('div.fontsize.news-content p'):\n",
    "    print(p.text)"
   ]
  },
  {
   "cell_type": "markdown",
   "metadata": {
    "deletable": true,
    "editable": true
   },
   "source": [
    "Pack it into a function"
   ]
  },
  {
   "cell_type": "code",
   "execution_count": 85,
   "metadata": {
    "collapsed": true,
    "deletable": true,
    "editable": true
   },
   "outputs": [],
   "source": [
    "def get_new_content(url):\n",
    "    content = []\n",
    "    req = requests.get(url)\n",
    "    req.encoding='utf-8'\n",
    "    soup = BeautifulSoup(req.text, 'lxml')\n",
    "    content.append(soup.select_one('div.content_title h1').text)\n",
    "    content.append(soup.select_one('div.mainpic_text').text)\n",
    "    for p in soup.select('div.fontsize.news-content p'):\n",
    "        content.append(p.text)\n",
    "    return '\\n'.join(content)"
   ]
  },
  {
   "cell_type": "code",
   "execution_count": 86,
   "metadata": {
    "collapsed": false,
    "deletable": true,
    "editable": true,
    "scrolled": true
   },
   "outputs": [
    {
     "name": "stdout",
     "output_type": "stream",
     "text": [
      "黨產會追討10億  國民黨質疑先射箭再畫靶\n",
      "\n",
      "        國民黨文傳會副主委洪孟楷與行管會主委邱大展今(16)日召開記者會表示，國民黨確實有取得政府財產，但那是因為政府欲賠償戰爭損失而給予的，且不只國民黨獲得。   圖: 國民黨部/提供      \n",
      "近日黨產會調查國民黨早期透過「轉帳撥用」方式獲得國有土地，最快於月底將對此做出認定並處以行政處分，向國民黨追討高達十億元，國民黨文傳會副主委洪孟楷與行管會主委邱大展今(16)日召開記者會表示，國民黨確實有取得政府財產，但那是因為政府欲賠償戰爭損失而給予的，且不只國民黨獲得。\n",
      "洪孟楷質疑，蔡英文是為了在520一周年前力求表現才對不當黨產開刀，將流於「先射箭再畫靶」的疑慮。洪孟楷強調，戰後補償是通例，黨產會今日只針對國民黨，就是針對性辦案、就是政黨惡鬥的工具。\n",
      "邱大展說，當初為了統一黨政軍的指揮權，因而成立國防最高委員會，由國民黨總裁出任，依據相關會議記錄顯示，這些財產為政府欲彌補受日人戰爭影響遭受的損失，政府用轉帳方式將日產轉給黨部作為賠償戰爭損失。\n",
      "邱大展還說，不只國民黨得到補償，其他如天津南開大學、青島美國學校、民社黨、上海市私立學校聯合會等皆取得日產作為補償。\n"
     ]
    }
   ],
   "source": [
    "url = 'https://newtalk.tw/news/view/2017-05-16/86844'\n",
    "print(get_new_content(url))"
   ]
  },
  {
   "cell_type": "markdown",
   "metadata": {
    "collapsed": true,
    "deletable": true,
    "editable": true
   },
   "source": [
    "news id parse function"
   ]
  },
  {
   "cell_type": "code",
   "execution_count": 11,
   "metadata": {
    "collapsed": true,
    "deletable": true,
    "editable": true
   },
   "outputs": [],
   "source": [
    "import re\n",
    "url_re = re.compile('-(\\d{7,10})')\n",
    "\n",
    "def parse_nid(url):\n",
    "    m = url_re.search(url)\n",
    "    return m.group(1)"
   ]
  },
  {
   "cell_type": "code",
   "execution_count": 63,
   "metadata": {
    "collapsed": false,
    "deletable": true,
    "editable": true
   },
   "outputs": [
    {
     "data": {
      "text/plain": [
       "'125910139'"
      ]
     },
     "execution_count": 63,
     "metadata": {},
     "output_type": "execute_result"
    }
   ],
   "source": [
    "parse_nid(url)"
   ]
  },
  {
   "cell_type": "code",
   "execution_count": 14,
   "metadata": {
    "collapsed": true,
    "deletable": true,
    "editable": true
   },
   "outputs": [],
   "source": [
    "import os\n",
    "for c in categories:\n",
    "    os.mkdir(c)"
   ]
  },
  {
   "cell_type": "code",
   "execution_count": null,
   "metadata": {
    "collapsed": false,
    "deletable": true,
    "editable": true
   },
   "outputs": [],
   "source": [
    "for category, urls in links.items():\n",
    "    for url in urls:\n",
    "        print(url)\n",
    "        nid = parse_nid(url)\n",
    "        filename = '{0}/{1}'.format(category, nid)\n",
    "        \n",
    "        if os.path.isfile(filename):\n",
    "            continue\n",
    "\n",
    "        content = get_new_content(url)\n",
    "        with open(filename, 'w') as f:\n",
    "            print(content, file=f)"
   ]
  },
  {
   "cell_type": "markdown",
   "metadata": {
    "collapsed": true,
    "deletable": true,
    "editable": true
   },
   "source": [
    "## Use selenium"
   ]
  },
  {
   "cell_type": "code",
   "execution_count": 29,
   "metadata": {
    "collapsed": false,
    "deletable": true,
    "editable": true
   },
   "outputs": [
    {
     "name": "stdout",
     "output_type": "stream",
     "text": [
      "Collecting selenium\n",
      "  Downloading selenium-3.4.1-py2.py3-none-any.whl (931kB)\n",
      "\u001b[K    100% |████████████████████████████████| 942kB 625kB/s ta 0:00:01\n",
      "\u001b[?25hInstalling collected packages: selenium\n",
      "Successfully installed selenium-3.4.1\n"
     ]
    }
   ],
   "source": [
    "!pip install selenium"
   ]
  },
  {
   "cell_type": "code",
   "execution_count": 30,
   "metadata": {
    "collapsed": false,
    "deletable": true,
    "editable": true
   },
   "outputs": [],
   "source": [
    "from selenium import webdriver\n",
    "driver = webdriver.Chrome()"
   ]
  },
  {
   "cell_type": "code",
   "execution_count": 31,
   "metadata": {
    "collapsed": false,
    "deletable": true,
    "editable": true
   },
   "outputs": [
    {
     "data": {
      "text/plain": [
       "'https://newtalk.tw/news/category/1/%E6%94%BF%E6%B2%BB%E7%B6%93%E6%BF%9F'"
      ]
     },
     "execution_count": 31,
     "metadata": {},
     "output_type": "execute_result"
    }
   ],
   "source": [
    "cat = categories[0]\n",
    "driver.get('{}'.format(categories[0]))\n",
    "cat"
   ]
  },
  {
   "cell_type": "code",
   "execution_count": 18,
   "metadata": {
    "collapsed": false,
    "deletable": true,
    "editable": true
   },
   "outputs": [
    {
     "name": "stdout",
     "output_type": "stream",
     "text": [
      "28\n"
     ]
    }
   ],
   "source": [
    "urls = set()\n",
    "for article in driver.find_elements_by_css_selector('.Cf a'):\n",
    "    if article.text:\n",
    "#         urls.add(article.text)\n",
    "        urls.add(article.get_attribute('href'))\n",
    "print(len(urls))"
   ]
  },
  {
   "cell_type": "code",
   "execution_count": 19,
   "metadata": {
    "collapsed": false,
    "deletable": true,
    "editable": true,
    "scrolled": false
   },
   "outputs": [
    {
     "name": "stdout",
     "output_type": "stream",
     "text": [
      "28\n"
     ]
    }
   ],
   "source": [
    "# used for: https://tw.news.yahoo.com/politics\n",
    "for article in driver.find_elements_by_css_selector('div#mrt-node-Col1-1-Hero a'):\n",
    "    if article.text:\n",
    "#         urls.add(article.text)\n",
    "        urls.add(article.get_attribute('href'))\n",
    "print(len(urls))"
   ]
  },
  {
   "cell_type": "code",
   "execution_count": null,
   "metadata": {
    "collapsed": true,
    "deletable": true,
    "editable": true
   },
   "outputs": [],
   "source": []
  },
  {
   "cell_type": "code",
   "execution_count": 204,
   "metadata": {
    "collapsed": true,
    "deletable": true,
    "editable": true
   },
   "outputs": [],
   "source": [
    "import time\n",
    "def get_urls(cat):\n",
    "    driver.get('{}'.format(categories[0]))\n",
    "\n",
    "    urls = set()\n",
    "    for article in driver.find_elements_by_css_selector('.js-stream-content > div:not(.controller) a:not(.comment-btn-link)'):\n",
    "        if article.text:\n",
    "            urls.add(article.get_attribute('href'))\n",
    "    for article in driver.find_elements_by_css_selector('div#mrt-node-Col1-1-Hero a'):\n",
    "        if article.text:\n",
    "            urls.add(article.get_attribute('href'))\n",
    "    print(len(urls))\n",
    "    return urls"
   ]
  },
  {
   "cell_type": "code",
   "execution_count": 189,
   "metadata": {
    "collapsed": false,
    "deletable": true,
    "editable": true
   },
   "outputs": [
    {
     "data": {
      "text/plain": [
       "60"
      ]
     },
     "execution_count": 189,
     "metadata": {},
     "output_type": "execute_result"
    }
   ],
   "source": [
    "len(links['politics'])"
   ]
  },
  {
   "cell_type": "code",
   "execution_count": null,
   "metadata": {
    "collapsed": true,
    "deletable": true,
    "editable": true
   },
   "outputs": [],
   "source": []
  }
 ],
 "metadata": {
  "kernelspec": {
   "display_name": "Python 3",
   "language": "python",
   "name": "python3"
  },
  "language_info": {
   "codemirror_mode": {
    "name": "ipython",
    "version": 3
   },
   "file_extension": ".py",
   "mimetype": "text/x-python",
   "name": "python",
   "nbconvert_exporter": "python",
   "pygments_lexer": "ipython3",
   "version": "3.6.0"
  }
 },
 "nbformat": 4,
 "nbformat_minor": 2
}
